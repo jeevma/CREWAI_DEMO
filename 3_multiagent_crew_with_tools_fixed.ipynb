{
 "cells": [
  {
   "cell_type": "markdown",
   "id": "setup-header",
   "metadata": {},
   "source": [
    "# Multi-Agent Crew with Tools - Fixed Version\n",
    "\n",
    "This notebook includes error handling and alternative search tools in case Serper API has issues."
   ]
  },
  {
   "cell_type": "code",
   "execution_count": null,
   "id": "e3466a70",
   "metadata": {},
   "outputs": [],
   "source": [
    "from crewai import LLM\n",
    "import os\n",
    "\n",
    "# Load environment variables\n",
    "from dotenv import load_dotenv\n",
    "load_dotenv()\n",
    "\n",
    "# Verify API keys\n",
    "print(\"API Keys Status:\")\n",
    "print(f\"GEMINI_API_KEY: {'✅ Found' if os.getenv('GEMINI_API_KEY') else '❌ Missing'}\")\n",
    "print(f\"SERPER_API_KEY: {'✅ Found' if os.getenv('SERPER_API_KEY') else '❌ Missing'}\")\n",
    "\n",
    "# Create a new LLM\n",
    "llm = LLM(model=\"gemini/gemini-2.0-flash\", temperature=0.2)\n",
    "print(\"✅ LLM initialized\")"
   ]
  },
  {
   "cell_type": "code",
   "execution_count": null,
   "id": "tool-setup",
   "metadata": {},
   "outputs": [],
   "source": [
    "# Setup search tools with fallback options\n",
    "from crewai_tools import SerperDevTool\n",
    "\n",
    "def get_search_tool():\n",
    "    \"\"\"Get available search tool with fallback options\"\"\"\n",
    "    \n",
    "    # Try Serper first\n",
    "    try:\n",
    "        serper_tool = SerperDevTool()\n",
    "        # Test the tool\n",
    "        test_result = serper_tool.run(\"test\")\n",
    "        print(\"✅ SerperDevTool working\")\n",
    "        return serper_tool\n",
    "    except Exception as e:\n",
    "        print(f\"❌ SerperDevTool failed: {e}\")\n",
    "    \n",
    "    # Try DuckDuckGo as fallback\n",
    "    try:\n",
    "        from crewai_tools import DuckDuckGoSearchRun\n",
    "        ddg_tool = DuckDuckGoSearchRun()\n",
    "        print(\"✅ Using DuckDuckGo Search as fallback\")\n",
    "        return ddg_tool\n",
    "    except ImportError:\n",
    "        print(\"❌ DuckDuckGo tool not available\")\n",
    "    \n",
    "    # Try Wikipedia as last resort\n",
    "    try:\n",
    "        from crewai_tools import WikipediaSearchTool\n",
    "        wiki_tool = WikipediaSearchTool()\n",
    "        print(\"✅ Using Wikipedia Search as fallback\")\n",
    "        return wiki_tool\n",
    "    except ImportError:\n",
    "        print(\"❌ Wikipedia tool not available\")\n",
    "        return None\n",
    "\n",
    "# Get the best available search tool\n",
    "search_tool = get_search_tool()\n",
    "\n",
    "if not search_tool:\n",
    "    print(\"⚠️ No search tools available. Agent will work with built-in knowledge only.\")"
   ]
  },
  {
   "cell_type": "code",
   "execution_count": null,
   "id": "4af88dad",
   "metadata": {},
   "outputs": [],
   "source": [
    "from crewai import Task, Agent, Crew\n",
    "\n",
    "# Define your agents\n",
    "researcher_agent = Agent(\n",
    "    role='Research Specialist',\n",
    "    goal='Research interesting facts about the topic: {topic}',\n",
    "    backstory=\"You are an expert at finding relevant and factual data.\",\n",
    "    tools=[search_tool] if search_tool else [],\n",
    "    verbose=True,\n",
    "    llm=llm\n",
    ")\n",
    "\n",
    "writer_agent = Agent(\n",
    "    role=\"Creative Writer\",\n",
    "    goal=\"Write a short blog summary using the research\",\n",
    "    backstory=\"You are skilled at writing engaging summaries based on provided content.\",\n",
    "    llm=llm,\n",
    "    verbose=True,\n",
    ")\n",
    "\n",
    "print(\"✅ Agents created successfully\")\n",
    "print(f\"Researcher tools: {len(researcher_agent.tools)} tool(s) available\")"
   ]
  },
  {
   "cell_type": "code",
   "execution_count": null,
   "id": "d1dda682",
   "metadata": {},
   "outputs": [],
   "source": [
    "# Create tasks\n",
    "task1 = Task(\n",
    "    description=\"Find 3-5 interesting and recent facts about {topic} as of year 2025.\",\n",
    "    expected_output=\"A bullet list of 3-5 facts\",\n",
    "    agent=researcher_agent,\n",
    ")\n",
    "\n",
    "task2 = Task(\n",
    "    description=\"Write a 100-word blog post summary about {topic} using the facts from the research.\",\n",
    "    expected_output=\"A blog post summary\",\n",
    "    agent=writer_agent,\n",
    "    context=[task1],\n",
    ")\n",
    "\n",
    "print(\"✅ Tasks created successfully\")"
   ]
  },
  {
   "cell_type": "code",
   "execution_count": null,
   "id": "80ac7443",
   "metadata": {},
   "outputs": [],
   "source": [
    "# Create and run the crew\n",
    "crew = Crew(\n",
    "    agents=[researcher_agent, writer_agent],\n",
    "    tasks=[task1, task2],\n",
    "    verbose=True,\n",
    ")\n",
    "\n",
    "print(\"🚀 Starting crew execution...\")\n",
    "result = crew.kickoff(inputs={\"topic\": \"The future of electrical vehicles\"})\n",
    "\n",
    "print(\"\\n\" + \"=\"*50)\n",
    "print(\"FINAL RESULT:\")\n",
    "print(\"=\"*50)\n",
    "print(result)"
   ]
  }
 ],
 "metadata": {
  "kernelspec": {
   "display_name": ".venv",
   "language": "python",
   "name": "python3"
  },
  "language_info": {
   "codemirror_mode": {
    "name": "ipython",
    "version": 3
   },
   "file_extension": ".py",
   "mimetype": "text/x-python",
   "name": "python",
   "nbconvert_exporter": "python",
   "pygments_lexer": "ipython3",
   "version": "3.13.7"
  }
 },
 "nbformat": 4,
 "nbformat_minor": 5
}
